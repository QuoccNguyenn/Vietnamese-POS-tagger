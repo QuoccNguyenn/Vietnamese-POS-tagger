{
 "cells": [
  {
   "cell_type": "markdown",
   "metadata": {
    "id": "P5yJwfIbC5c-"
   },
   "source": [
    "## Xử lý bài toán POS Tagging với thuật toán Conditional Random Fields - CRFs"
   ]
  },
  {
   "cell_type": "code",
   "execution_count": 19,
   "metadata": {
    "id": "cUD654Jda44Q"
   },
   "outputs": [],
   "source": [
    "  import nltk"
   ]
  },
  {
   "cell_type": "markdown",
   "metadata": {
    "id": "OzogHvgDPPJ0"
   },
   "source": [
    "Đọc và định dạng file đầu vào"
   ]
  },
  {
   "cell_type": "code",
   "execution_count": 20,
   "metadata": {
    "id": "_ob6DHx2yX61"
   },
   "outputs": [],
   "source": [
    "def read_file(filename):\n",
    "  with open(filename, 'r', encoding='utf-8') as train_doc:\n",
    "    lines = train_doc.readlines()\n",
    "\n",
    "    doc_for_train = []\n",
    "    for line in lines:\n",
    "      if line != \"\\n\":\n",
    "        doc_for_train.append([])\n",
    "        word_tag = line.split()\n",
    "\n",
    "        for w in word_tag:\n",
    "          w = w.split(\"/\")\n",
    "          if w[0] != '\\u2026':\n",
    "            doc_for_train[-1].append(tuple(w))\n",
    "\n",
    "  return doc_for_train\n",
    "\n",
    "\n",
    "train_set = read_file('vi_train.pos')\n",
    "test_set = read_file('vi_test.pos')\n",
    "# train_set[4]"
   ]
  },
  {
   "cell_type": "markdown",
   "metadata": {
    "id": "DRuRYsahPUB7"
   },
   "source": [
    "In ra độ dài của file train và file test"
   ]
  },
  {
   "cell_type": "code",
   "execution_count": 21,
   "metadata": {
    "colab": {
     "base_uri": "https://localhost:8080/"
    },
    "id": "Pcuy82RhwedZ",
    "outputId": "18c2759a-1684-4363-c633-c6833849d796"
   },
   "outputs": [
    {
     "name": "stdout",
     "output_type": "stream",
     "text": [
      "Number of Sentences in Training Data  8445\n",
      "Number of Sentences in Testing Data  1051\n"
     ]
    }
   ],
   "source": [
    "print(\"Number of Sentences in Training Data \",len(train_set))\n",
    "print(\"Number of Sentences in Testing Data \",len(test_set))"
   ]
  },
  {
   "cell_type": "markdown",
   "metadata": {
    "id": "9mrID1a6Pa2n"
   },
   "source": [
    "Tạo features cho bộ dữ liệu"
   ]
  },
  {
   "cell_type": "code",
   "execution_count": 22,
   "metadata": {
    "id": "sGf04FtqxEFF"
   },
   "outputs": [],
   "source": [
    "import re\n",
    "def features(sentence,index):\n",
    "    ### sentence is of the form [w1,w2,w3,..], index is the position of the word in the sentence\n",
    "    return {\n",
    "        # 'is_first_capital':int(sentence[index][0].isupper()),\n",
    "        'is_first_word': int(index==0),\n",
    "        'is_last_word':int(index==len(sentence)-1),\n",
    "        'is_complete_capital': int(sentence[index].upper()==sentence[index]),\n",
    "        'prev_word':'' if index==0 else sentence[index-1],\n",
    "        'next_word':'' if index==len(sentence)-1 else sentence[index+1],\n",
    "        'is_numeric':int(sentence[index].isdigit()),\n",
    "        'is_alphanumeric': int(bool((re.match('^(?=.*[0-9]$)(?=.*[a-zA-Z])',sentence[index])))),\n",
    "        # 'prefix_1':sentence[index][0],\n",
    "        'prefix_2': sentence[index][:2],\n",
    "        'prefix_3':sentence[index][:3],\n",
    "        'prefix_4':sentence[index][:4],\n",
    "        # 'suffix_1':sentence[index][-1],\n",
    "        'suffix_2':sentence[index][-2:],\n",
    "        'suffix_3':sentence[index][-3:],\n",
    "        'suffix_4':sentence[index][-4:],\n",
    "        'word_has_hyphen': 1 if '-' in sentence[index] else 0  \n",
    "         }\n",
    "def untag(sentence):\n",
    "    return [word for word,tag in sentence]\n",
    " \n",
    " \n",
    "def prepareData(tagged_sentences):\n",
    "    X,y=[],[]\n",
    "    for sentences in tagged_sentences:\n",
    "        X.append([features(untag(sentences), index) for index in range(len(sentences))])\n",
    "        y.append([tag for word,tag in sentences])\n",
    "    return X,y\n",
    "X_train,y_train=prepareData(train_set)\n",
    "X_test,y_test=prepareData(test_set)"
   ]
  },
  {
   "cell_type": "markdown",
   "metadata": {
    "id": "3DLwb7i3QGod"
   },
   "source": [
    "Xây dựng mô hình CRFs"
   ]
  },
  {
   "cell_type": "code",
   "execution_count": 23,
   "metadata": {
    "colab": {
     "base_uri": "https://localhost:8080/"
    },
    "id": "KNLl_Yo7vj8A",
    "outputId": "1f047ff8-07f2-4945-b98e-1b3c7665decb"
   },
   "outputs": [
    {
     "name": "stdout",
     "output_type": "stream",
     "text": [
      "Requirement already satisfied: sklearn_crfsuite in /usr/local/lib/python3.7/dist-packages (0.3.6)\n",
      "Requirement already satisfied: six in /usr/local/lib/python3.7/dist-packages (from sklearn_crfsuite) (1.15.0)\n",
      "Requirement already satisfied: tqdm>=2.0 in /usr/local/lib/python3.7/dist-packages (from sklearn_crfsuite) (4.41.1)\n",
      "Requirement already satisfied: tabulate in /usr/local/lib/python3.7/dist-packages (from sklearn_crfsuite) (0.8.9)\n",
      "Requirement already satisfied: python-crfsuite>=0.8.3 in /usr/local/lib/python3.7/dist-packages (from sklearn_crfsuite) (0.9.7)\n"
     ]
    }
   ],
   "source": [
    "! pip install sklearn_crfsuite\n",
    "from sklearn_crfsuite import CRF"
   ]
  },
  {
   "cell_type": "code",
   "execution_count": 24,
   "metadata": {
    "colab": {
     "base_uri": "https://localhost:8080/"
    },
    "id": "n8oqUG72aJbV",
    "outputId": "d69c5674-1226-4d1e-9e75-2862ae3bd04f"
   },
   "outputs": [
    {
     "name": "stderr",
     "output_type": "stream",
     "text": [
      "/usr/local/lib/python3.7/dist-packages/sklearn/base.py:197: FutureWarning: From version 0.24, get_params will raise an AttributeError if a parameter cannot be retrieved as an instance attribute. Previously it would return None.\n",
      "  FutureWarning)\n"
     ]
    },
    {
     "data": {
      "text/plain": [
       "CRF(algorithm='lbfgs', all_possible_states=None, all_possible_transitions=True,\n",
       "    averaging=None, c=None, c1=0.01, c2=0.1, calibration_candidates=None,\n",
       "    calibration_eta=None, calibration_max_trials=None, calibration_rate=None,\n",
       "    calibration_samples=None, delta=None, epsilon=None, error_sensitive=None,\n",
       "    gamma=None, keep_tempfiles=None, linesearch=None, max_iterations=100,\n",
       "    max_linesearch=None, min_freq=None, model_filename=None, num_memories=None,\n",
       "    pa_type=None, period=None, trainer_cls=None, variance=None, verbose=False)"
      ]
     },
     "execution_count": 24,
     "metadata": {
      "tags": []
     },
     "output_type": "execute_result"
    }
   ],
   "source": [
    "crf = CRF(\n",
    "    algorithm='lbfgs',\n",
    "    c1=0.01,\n",
    "    c2=0.1,\n",
    "    max_iterations=100,\n",
    "    all_possible_transitions=True\n",
    ")\n",
    "crf.fit(X_train, y_train)"
   ]
  },
  {
   "cell_type": "markdown",
   "metadata": {
    "id": "e26jUeAXQWYV"
   },
   "source": [
    "Kết quả chạy mô hình"
   ]
  },
  {
   "cell_type": "code",
   "execution_count": 25,
   "metadata": {
    "colab": {
     "base_uri": "https://localhost:8080/"
    },
    "id": "DRUncOckxno5",
    "outputId": "97dac172-6af4-4840-d27f-7affe7858dfa"
   },
   "outputs": [
    {
     "name": "stdout",
     "output_type": "stream",
     "text": [
      "F1 score on Test Data \n",
      "0.9331350892098556\n",
      "F score on Training Data \n",
      "0.9748369058713886\n"
     ]
    }
   ],
   "source": [
    "from sklearn_crfsuite import metrics\n",
    "from sklearn_crfsuite import scorers\n",
    "\n",
    "y_pred=crf.predict(X_test)\n",
    "print(\"F1 score on Test Data \")\n",
    "print(metrics.flat_accuracy_score(y_test, y_pred))\n",
    "\n",
    "y_pred_train=crf.predict(X_train)\n",
    "print(\"F score on Training Data \")\n",
    "print(metrics.flat_accuracy_score(y_train, y_pred_train))"
   ]
  },
  {
   "cell_type": "markdown",
   "metadata": {
    "id": "OwMFzZSwQaNS"
   },
   "source": [
    "Kết quả rất tốt:\n",
    "  ~97% trên dữ liệu train\n",
    "  ~93% trên dữ liệu test"
   ]
  },
  {
   "cell_type": "markdown",
   "metadata": {
    "id": "1KVqNaAIQmWa"
   },
   "source": [
    "Tiến hành gán nhãn câu đầu vào: \"Dù khá đắt nhưng tôi vẫn đồng ý.\""
   ]
  },
  {
   "cell_type": "code",
   "execution_count": 26,
   "metadata": {
    "colab": {
     "base_uri": "https://localhost:8080/"
    },
    "id": "GbZoAj1Dw_8J",
    "outputId": "6a3766eb-575d-48cf-9b8b-2d9761b49ca2"
   },
   "outputs": [
    {
     "name": "stdout",
     "output_type": "stream",
     "text": [
      "Requirement already satisfied: pyvi in /usr/local/lib/python3.7/dist-packages (0.1)\n",
      "Requirement already satisfied: scikit-learn in /usr/local/lib/python3.7/dist-packages (from pyvi) (0.22.2.post1)\n",
      "Requirement already satisfied: sklearn-crfsuite in /usr/local/lib/python3.7/dist-packages (from pyvi) (0.3.6)\n",
      "Requirement already satisfied: numpy>=1.11.0 in /usr/local/lib/python3.7/dist-packages (from scikit-learn->pyvi) (1.19.5)\n",
      "Requirement already satisfied: joblib>=0.11 in /usr/local/lib/python3.7/dist-packages (from scikit-learn->pyvi) (1.0.1)\n",
      "Requirement already satisfied: scipy>=0.17.0 in /usr/local/lib/python3.7/dist-packages (from scikit-learn->pyvi) (1.4.1)\n",
      "Requirement already satisfied: tqdm>=2.0 in /usr/local/lib/python3.7/dist-packages (from sklearn-crfsuite->pyvi) (4.41.1)\n",
      "Requirement already satisfied: python-crfsuite>=0.8.3 in /usr/local/lib/python3.7/dist-packages (from sklearn-crfsuite->pyvi) (0.9.7)\n",
      "Requirement already satisfied: six in /usr/local/lib/python3.7/dist-packages (from sklearn-crfsuite->pyvi) (1.15.0)\n",
      "Requirement already satisfied: tabulate in /usr/local/lib/python3.7/dist-packages (from sklearn-crfsuite->pyvi) (0.8.9)\n"
     ]
    }
   ],
   "source": [
    "! pip install pyvi"
   ]
  },
  {
   "cell_type": "code",
   "execution_count": 27,
   "metadata": {
    "colab": {
     "base_uri": "https://localhost:8080/"
    },
    "id": "BYmGljkklgYR",
    "outputId": "be5ec54b-f0b6-4218-ed12-379aab42985e"
   },
   "outputs": [
    {
     "name": "stdout",
     "output_type": "stream",
     "text": [
      "[('Dù', 'C'), ('khá', 'R'), ('đắt', 'A'), ('nhưng', 'C'), ('tôi', 'P'), ('vẫn', 'R'), ('đồng_ý', 'V'), ('.', '.')]\n"
     ]
    }
   ],
   "source": [
    "from pyvi import ViTokenizer\n",
    "c = 'Dù khá đắt nhưng tôi vẫn đồng_ý.'\n",
    "\n",
    "def pos_tag(sentence):\n",
    "  sentence_features = [features(sentence, index) for index in range(len(sentence))]\n",
    "  return list(zip(sentence, crf.predict([sentence_features])[0]))\n",
    "\n",
    "result = pos_tag(ViTokenizer.tokenize(\"Dù khá đắt nhưng tôi vẫn đồng ý.\").split())\n",
    "\n",
    "print(result)"
   ]
  }
 ],
 "metadata": {
  "colab": {
   "collapsed_sections": [],
   "name": "ConditionalRandomFields-POSTagger .ipynb",
   "provenance": []
  },
  "kernelspec": {
   "display_name": "Python 3",
   "language": "python",
   "name": "python3"
  },
  "language_info": {
   "codemirror_mode": {
    "name": "ipython",
    "version": 3
   },
   "file_extension": ".py",
   "mimetype": "text/x-python",
   "name": "python",
   "nbconvert_exporter": "python",
   "pygments_lexer": "ipython3",
   "version": "3.8.5"
  }
 },
 "nbformat": 4,
 "nbformat_minor": 1
}
